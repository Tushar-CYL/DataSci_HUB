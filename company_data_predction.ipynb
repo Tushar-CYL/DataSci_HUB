{
 "cells": [
  {
   "cell_type": "code",
   "execution_count": 15,
   "metadata": {},
   "outputs": [],
   "source": [
    "from selenium import webdriver\n",
    "from selenium.webdriver.chrome.service import Service\n",
    "from webdriver_manager.chrome import ChromeDriverManager\n",
    "\n",
    "driver = webdriver.Chrome(service=Service(ChromeDriverManager().install()))\n",
    "driver.get(\"https://www.google.com/\")"
   ]
  },
  {
   "cell_type": "code",
   "execution_count": 11,
   "metadata": {},
   "outputs": [
    {
     "name": "stdout",
     "output_type": "stream",
     "text": [
      "Requirement already satisfied: html5lib in c:\\users\\tusha\\appdata\\local\\programs\\python\\python312\\lib\\site-packages (1.1)Note: you may need to restart the kernel to use updated packages.\n",
      "\n",
      "Requirement already satisfied: six>=1.9 in c:\\users\\tusha\\appdata\\local\\programs\\python\\python312\\lib\\site-packages (from html5lib) (1.16.0)\n",
      "Requirement already satisfied: webencodings in c:\\users\\tusha\\appdata\\local\\programs\\python\\python312\\lib\\site-packages (from html5lib) (0.5.1)\n"
     ]
    }
   ],
   "source": [
    "pip  install html5lib"
   ]
  },
  {
   "cell_type": "code",
   "execution_count": 114,
   "metadata": {},
   "outputs": [],
   "source": [
    "from selenium.webdriver.common.by import By\n",
    "# a = \"linkedin\"\n",
    "b = driver.find_element(By.XPATH, \"/html/body/div[1]/div[3]/form/div[1]/div[1]/div[1]/div/div[2]/div/textarea\")\n",
    "b.send_keys(\"EXCELL TECHNOLOGY VENTURES \"+\"linkedin\")"
   ]
  },
  {
   "cell_type": "code",
   "execution_count": 32,
   "metadata": {},
   "outputs": [],
   "source": [
    "\n",
    "search1st = driver.find_element(By.XPATH, \"/html/body/div[1]/div[3]/form/div[1]/div[1]/div[2]/div[2]/div[2]/div[1]/div/ul/li[1]/div/div[2]/div[1]/div[1]/span\")\n",
    "search1st.click()\n",
    "\n",
    "\n",
    "# search = driver.find_element(By.XPATH, \"/html/body/div[1]/div[3]/form/div[1]/div[1]/div[1]/div/div[1]\")\n",
    "# search.click()"
   ]
  },
  {
   "cell_type": "code",
   "execution_count": 35,
   "metadata": {},
   "outputs": [],
   "source": [
    "new1=driver.find_element(By.XPATH,\"/html/body/div[5]/div/div[10]/div/div[2]/div[2]/div/div/div[1]/div/div/div[1]/div/div/span/a/h3\")\n",
    "new1.click()"
   ]
  },
  {
   "cell_type": "code",
   "execution_count": 36,
   "metadata": {},
   "outputs": [
    {
     "name": "stdout",
     "output_type": "stream",
     "text": [
      "https://in.linkedin.com/company/excell-technology-ventures-private-limited\n"
     ]
    }
   ],
   "source": [
    "get_url = driver.current_url\n",
    "print(str(get_url))"
   ]
  },
  {
   "cell_type": "code",
   "execution_count": 37,
   "metadata": {},
   "outputs": [
    {
     "name": "stdout",
     "output_type": "stream",
     "text": [
      "About us\n",
      "Headquarters\n",
      "MUMBAI, Maharashtra\n",
      "Locations\n",
      "FLAT NO. 202, 2ND FLOOR, B WING, ADITYA PLANET PLOT NO. 19 & 19B, SECTOR 10, KOPRA, KHARGHAR NAVI\n",
      "MUMBAI, Maharashtra 410210, IN\n",
      "Get directions\n"
     ]
    }
   ],
   "source": [
    "about = driver.find_element(By.XPATH,\"/html/body/main/section[1]/div/section[1]\")\n",
    "print(about.text)\n",
    "\n",
    "location = driver.find_element(By.XPATH,\"/html/body/main/section[1]/div/section[2]\")\n",
    "print(location.text)"
   ]
  },
  {
   "cell_type": "code",
   "execution_count": 41,
   "metadata": {},
   "outputs": [],
   "source": [
    "driver.back()\n",
    "driver.back()\n"
   ]
  },
  {
   "cell_type": "code",
   "execution_count": null,
   "metadata": {},
   "outputs": [],
   "source": []
  },
  {
   "cell_type": "code",
   "execution_count": null,
   "metadata": {},
   "outputs": [],
   "source": []
  },
  {
   "cell_type": "code",
   "execution_count": 15,
   "metadata": {},
   "outputs": [
    {
     "data": {
      "text/html": [
       "<div>\n",
       "<style scoped>\n",
       "    .dataframe tbody tr th:only-of-type {\n",
       "        vertical-align: middle;\n",
       "    }\n",
       "\n",
       "    .dataframe tbody tr th {\n",
       "        vertical-align: top;\n",
       "    }\n",
       "\n",
       "    .dataframe thead th {\n",
       "        text-align: right;\n",
       "    }\n",
       "</style>\n",
       "<table border=\"1\" class=\"dataframe\">\n",
       "  <thead>\n",
       "    <tr style=\"text-align: right;\">\n",
       "      <th></th>\n",
       "      <th>name</th>\n",
       "    </tr>\n",
       "  </thead>\n",
       "  <tbody>\n",
       "    <tr>\n",
       "      <th>0</th>\n",
       "      <td>SAMPATANAND TECH PRIVATE LIMITED</td>\n",
       "    </tr>\n",
       "    <tr>\n",
       "      <th>1</th>\n",
       "      <td>BIGG BULL FANTASY PRIVATE LIMITED</td>\n",
       "    </tr>\n",
       "    <tr>\n",
       "      <th>2</th>\n",
       "      <td>VENKATADRI TEK SERVICES PRIVATE LIMITED</td>\n",
       "    </tr>\n",
       "    <tr>\n",
       "      <th>3</th>\n",
       "      <td>CL-INDOGLOBAL DATA CENTRE PRIVATE LIMITED</td>\n",
       "    </tr>\n",
       "    <tr>\n",
       "      <th>4</th>\n",
       "      <td>FLASH DIGITAL PRIVATE LIMITED</td>\n",
       "    </tr>\n",
       "    <tr>\n",
       "      <th>...</th>\n",
       "      <td>...</td>\n",
       "    </tr>\n",
       "    <tr>\n",
       "      <th>440</th>\n",
       "      <td>V3.COM (INDIA) PRIVATE LIMITED</td>\n",
       "    </tr>\n",
       "    <tr>\n",
       "      <th>441</th>\n",
       "      <td>MASICON SYSTEMS PRIVATE LIMITED</td>\n",
       "    </tr>\n",
       "    <tr>\n",
       "      <th>442</th>\n",
       "      <td>BAGEECHA HOSPITALITY PRIVATE LIMITED</td>\n",
       "    </tr>\n",
       "    <tr>\n",
       "      <th>443</th>\n",
       "      <td>PURVI PRINT-PACK PVT LTD</td>\n",
       "    </tr>\n",
       "    <tr>\n",
       "      <th>444</th>\n",
       "      <td>XULTANT ORGANOSYNTH PRIVATE LIMITED</td>\n",
       "    </tr>\n",
       "  </tbody>\n",
       "</table>\n",
       "<p>445 rows × 1 columns</p>\n",
       "</div>"
      ],
      "text/plain": [
       "                                             name\n",
       "0               SAMPATANAND TECH PRIVATE LIMITED \n",
       "1              BIGG BULL FANTASY PRIVATE LIMITED \n",
       "2        VENKATADRI TEK SERVICES PRIVATE LIMITED \n",
       "3      CL-INDOGLOBAL DATA CENTRE PRIVATE LIMITED \n",
       "4                  FLASH DIGITAL PRIVATE LIMITED \n",
       "..                                            ...\n",
       "440               V3.COM (INDIA) PRIVATE LIMITED \n",
       "441              MASICON SYSTEMS PRIVATE LIMITED \n",
       "442         BAGEECHA HOSPITALITY PRIVATE LIMITED \n",
       "443                     PURVI PRINT-PACK PVT LTD \n",
       "444          XULTANT ORGANOSYNTH PRIVATE LIMITED \n",
       "\n",
       "[445 rows x 1 columns]"
      ]
     },
     "execution_count": 15,
     "metadata": {},
     "output_type": "execute_result"
    }
   ],
   "source": [
    "import pandas as pd\n",
    "import numpy as np\n",
    "\n",
    "df = pd.read_csv('new_mumbai_400.csv')\n",
    "# dr = pd.DataFrame(df)\n",
    "df"
   ]
  },
  {
   "cell_type": "code",
   "execution_count": 2,
   "metadata": {},
   "outputs": [
    {
     "data": {
      "text/html": [
       "<div>\n",
       "<style scoped>\n",
       "    .dataframe tbody tr th:only-of-type {\n",
       "        vertical-align: middle;\n",
       "    }\n",
       "\n",
       "    .dataframe tbody tr th {\n",
       "        vertical-align: top;\n",
       "    }\n",
       "\n",
       "    .dataframe thead th {\n",
       "        text-align: right;\n",
       "    }\n",
       "</style>\n",
       "<table border=\"1\" class=\"dataframe\">\n",
       "  <thead>\n",
       "    <tr style=\"text-align: right;\">\n",
       "      <th></th>\n",
       "      <th>Unnamed: 0</th>\n",
       "      <th>name</th>\n",
       "    </tr>\n",
       "  </thead>\n",
       "  <tbody>\n",
       "    <tr>\n",
       "      <th>0</th>\n",
       "      <td>0</td>\n",
       "      <td>INFOWAYS ANA</td>\n",
       "    </tr>\n",
       "    <tr>\n",
       "      <th>1</th>\n",
       "      <td>1</td>\n",
       "      <td>MAF TECHNOLOGIES</td>\n",
       "    </tr>\n",
       "    <tr>\n",
       "      <th>2</th>\n",
       "      <td>2</td>\n",
       "      <td>SHNA IT SOLUTION</td>\n",
       "    </tr>\n",
       "    <tr>\n",
       "      <th>3</th>\n",
       "      <td>3</td>\n",
       "      <td>BERSAGLIO TECHNOLOGIES</td>\n",
       "    </tr>\n",
       "    <tr>\n",
       "      <th>4</th>\n",
       "      <td>4</td>\n",
       "      <td>GREENACRE AGRITECH SOLUTIONS</td>\n",
       "    </tr>\n",
       "  </tbody>\n",
       "</table>\n",
       "</div>"
      ],
      "text/plain": [
       "   Unnamed: 0                           name\n",
       "0           0                  INFOWAYS ANA \n",
       "1           1              MAF TECHNOLOGIES \n",
       "2           2              SHNA IT SOLUTION \n",
       "3           3        BERSAGLIO TECHNOLOGIES \n",
       "4           4  GREENACRE AGRITECH SOLUTIONS "
      ]
     },
     "execution_count": 2,
     "metadata": {},
     "output_type": "execute_result"
    }
   ],
   "source": [
    "dr.head()"
   ]
  },
  {
   "cell_type": "code",
   "execution_count": 3,
   "metadata": {},
   "outputs": [
    {
     "data": {
      "text/html": [
       "<div>\n",
       "<style scoped>\n",
       "    .dataframe tbody tr th:only-of-type {\n",
       "        vertical-align: middle;\n",
       "    }\n",
       "\n",
       "    .dataframe tbody tr th {\n",
       "        vertical-align: top;\n",
       "    }\n",
       "\n",
       "    .dataframe thead th {\n",
       "        text-align: right;\n",
       "    }\n",
       "</style>\n",
       "<table border=\"1\" class=\"dataframe\">\n",
       "  <thead>\n",
       "    <tr style=\"text-align: right;\">\n",
       "      <th></th>\n",
       "      <th>Unnamed: 0</th>\n",
       "    </tr>\n",
       "  </thead>\n",
       "  <tbody>\n",
       "    <tr>\n",
       "      <th>count</th>\n",
       "      <td>8311.000000</td>\n",
       "    </tr>\n",
       "    <tr>\n",
       "      <th>mean</th>\n",
       "      <td>4155.000000</td>\n",
       "    </tr>\n",
       "    <tr>\n",
       "      <th>std</th>\n",
       "      <td>2399.323377</td>\n",
       "    </tr>\n",
       "    <tr>\n",
       "      <th>min</th>\n",
       "      <td>0.000000</td>\n",
       "    </tr>\n",
       "    <tr>\n",
       "      <th>25%</th>\n",
       "      <td>2077.500000</td>\n",
       "    </tr>\n",
       "    <tr>\n",
       "      <th>50%</th>\n",
       "      <td>4155.000000</td>\n",
       "    </tr>\n",
       "    <tr>\n",
       "      <th>75%</th>\n",
       "      <td>6232.500000</td>\n",
       "    </tr>\n",
       "    <tr>\n",
       "      <th>max</th>\n",
       "      <td>8310.000000</td>\n",
       "    </tr>\n",
       "  </tbody>\n",
       "</table>\n",
       "</div>"
      ],
      "text/plain": [
       "        Unnamed: 0\n",
       "count  8311.000000\n",
       "mean   4155.000000\n",
       "std    2399.323377\n",
       "min       0.000000\n",
       "25%    2077.500000\n",
       "50%    4155.000000\n",
       "75%    6232.500000\n",
       "max    8310.000000"
      ]
     },
     "execution_count": 3,
     "metadata": {},
     "output_type": "execute_result"
    }
   ],
   "source": [
    "dr.describe()"
   ]
  },
  {
   "cell_type": "code",
   "execution_count": 3,
   "metadata": {},
   "outputs": [],
   "source": [
    "import csv"
   ]
  },
  {
   "cell_type": "code",
   "execution_count": null,
   "metadata": {},
   "outputs": [],
   "source": [
    "from selenium.webdriver.common.by import By\n",
    "# from selenium.webdriver.support.ui import WebDriverWait\n",
    "# from selenium.webdriver.support import expected_conditions as EC\n",
    "\n",
    "for index, row in df.iterrows():\n",
    "    i = row['name']\n",
    "    b = driver.find_element(By.XPATH, \"/html/body/div[1]/div[3]/form/div[1]/div[1]/div[1]/div/div[2]/div/textarea\")\n",
    "    b.send_keys(str(i)+\"linkedin\")\n",
    "    \n",
    "    search1st = driver.find_element(By.XPATH, \"/html/body/div[1]/div[3]/form/div[1]/div[1]/div[2]/div[2]/div[2]/div[1]/div/ul/li[1]/div/div[2]/div[1]/div[1]/span\")\n",
    "    search1st.click()\n",
    "    # wait = WebDriverWait(driver, 10)\n",
    "    # search1st = wait.until(EC.element_to_be_clickable((By.XPATH, \"/html/body/div[1]/div[3]/form/div[1]/div[1]/div[2]/div[2]/div[2]/div[1]/div/ul/li[1]/div/div[2]/div[1]/div[1]/span\")))\n",
    "    # search1st.click()\n",
    "    \n",
    "    new1=driver.find_element(By.XPATH,\"/html/body/div[5]/div/div[10]/div/div[2]/div[2]/div/div/div[1]/div/div/div[1]/div/div/span/a/h3\")\n",
    "    new1.click()\n",
    "    \n",
    "    get_url = driver.current_url\n",
    "    print(str(get_url))\n",
    "    \n",
    "    about = driver.find_element(By.XPATH,\"/html/body/main/section[1]/div/section[1]\")\n",
    "    # print(about.text)\n",
    "\n",
    "    location = driver.find_element(By.XPATH,\"/html/body/main/section[1]/div/section[2]\")\n",
    "    # print(location.text)\n",
    "    \n",
    "    data=[]\n",
    "    data.append(get_url,about,location)\n",
    "    with open('ba.csv', 'a', newline='') as file:\n",
    "     writer = csv.writer(file)\n",
    "     writer.writerow(data)\n",
    "    driver.back()\n",
    "    driver.back()"
   ]
  },
  {
   "cell_type": "code",
   "execution_count": 2,
   "metadata": {},
   "outputs": [],
   "source": [
    "import undetected_chromedriver as uc\n",
    "\n",
    "import time \n",
    " \n",
    "options = uc.ChromeOptions() \n",
    "options.headless = False  # Set headless to False to run in non-headless mode\n",
    "\n",
    "driver = uc.Chrome(use_subprocess=True, options=options) \n",
    "driver.get(\"https://www.zaubacorp.com/\")\n",
    "\n",
    "\n",
    "# 2nd\n",
    "\n",
    "# from selenium.webdriver.common.by import By\n",
    "\n",
    "# pd = driver.find_element(By.CLASS_NAME, \"browse\")\n",
    "# pd.click()\n"
   ]
  },
  {
   "cell_type": "code",
   "execution_count": 14,
   "metadata": {},
   "outputs": [],
   "source": [
    "import time"
   ]
  },
  {
   "cell_type": "code",
   "execution_count": 1,
   "metadata": {},
   "outputs": [],
   "source": [
    "import undetected_chromedriver as uc\n",
    "\n",
    "import time \n",
    " \n",
    "options = uc.ChromeOptions() \n",
    "options.headless = False  # Set headless to False to run in non-headless mode\n",
    "\n",
    "driver = uc.Chrome(use_subprocess=True, options=options) \n",
    "driver.get(\"https://www.google.com/\")\n",
    "\n",
    "\n",
    "# 2nd\n",
    "\n",
    "# from selenium.webdriver.common.by import By\n",
    "\n",
    "# pd = driver.find_element(By.CLASS_NAME, \"browse\")\n",
    "# pd.click()\n"
   ]
  },
  {
   "cell_type": "code",
   "execution_count": 5,
   "metadata": {},
   "outputs": [
    {
     "data": {
      "text/html": [
       "<div>\n",
       "<style scoped>\n",
       "    .dataframe tbody tr th:only-of-type {\n",
       "        vertical-align: middle;\n",
       "    }\n",
       "\n",
       "    .dataframe tbody tr th {\n",
       "        vertical-align: top;\n",
       "    }\n",
       "\n",
       "    .dataframe thead th {\n",
       "        text-align: right;\n",
       "    }\n",
       "</style>\n",
       "<table border=\"1\" class=\"dataframe\">\n",
       "  <thead>\n",
       "    <tr style=\"text-align: right;\">\n",
       "      <th></th>\n",
       "      <th>name</th>\n",
       "    </tr>\n",
       "  </thead>\n",
       "  <tbody>\n",
       "    <tr>\n",
       "      <th>0</th>\n",
       "      <td>NCREDISCORE INNOVATION LABS PRIVATE LIMITED</td>\n",
       "    </tr>\n",
       "    <tr>\n",
       "      <th>1</th>\n",
       "      <td>HYPERSTAQ AUTOMATION PRIVATE LIMITED</td>\n",
       "    </tr>\n",
       "    <tr>\n",
       "      <th>2</th>\n",
       "      <td>BREITHORN CONSULTING &amp; TECHNOLOGY SOLUTIONS ...</td>\n",
       "    </tr>\n",
       "    <tr>\n",
       "      <th>3</th>\n",
       "      <td>ENBLOC FUND TECH SOLUTIONS PRIVATE LIMITED</td>\n",
       "    </tr>\n",
       "    <tr>\n",
       "      <th>4</th>\n",
       "      <td>RINIRA TECHNOLOGIES PRIVATE LIMITED</td>\n",
       "    </tr>\n",
       "    <tr>\n",
       "      <th>...</th>\n",
       "      <td>...</td>\n",
       "    </tr>\n",
       "    <tr>\n",
       "      <th>330</th>\n",
       "      <td>V3.COM (INDIA) PRIVATE LIMITED</td>\n",
       "    </tr>\n",
       "    <tr>\n",
       "      <th>331</th>\n",
       "      <td>MASICON SYSTEMS PRIVATE LIMITED</td>\n",
       "    </tr>\n",
       "    <tr>\n",
       "      <th>332</th>\n",
       "      <td>BAGEECHA HOSPITALITY PRIVATE LIMITED</td>\n",
       "    </tr>\n",
       "    <tr>\n",
       "      <th>333</th>\n",
       "      <td>PURVI PRINT-PACK PVT LTD</td>\n",
       "    </tr>\n",
       "    <tr>\n",
       "      <th>334</th>\n",
       "      <td>XULTANT ORGANOSYNTH PRIVATE LIMITED</td>\n",
       "    </tr>\n",
       "  </tbody>\n",
       "</table>\n",
       "<p>335 rows × 1 columns</p>\n",
       "</div>"
      ],
      "text/plain": [
       "                                                  name\n",
       "0         NCREDISCORE INNOVATION LABS PRIVATE LIMITED \n",
       "1                HYPERSTAQ AUTOMATION PRIVATE LIMITED \n",
       "2      BREITHORN CONSULTING & TECHNOLOGY SOLUTIONS ...\n",
       "3          ENBLOC FUND TECH SOLUTIONS PRIVATE LIMITED \n",
       "4                 RINIRA TECHNOLOGIES PRIVATE LIMITED \n",
       "..                                                 ...\n",
       "330                    V3.COM (INDIA) PRIVATE LIMITED \n",
       "331                   MASICON SYSTEMS PRIVATE LIMITED \n",
       "332              BAGEECHA HOSPITALITY PRIVATE LIMITED \n",
       "333                          PURVI PRINT-PACK PVT LTD \n",
       "334               XULTANT ORGANOSYNTH PRIVATE LIMITED \n",
       "\n",
       "[335 rows x 1 columns]"
      ]
     },
     "execution_count": 5,
     "metadata": {},
     "output_type": "execute_result"
    }
   ],
   "source": [
    "import pandas as pd\n",
    "import numpy as np\n",
    "\n",
    "df = pd.read_csv('new_mumbai_400.csv')\n",
    "# dr = pd.DataFrame(df)\n",
    "df"
   ]
  },
  {
   "cell_type": "code",
   "execution_count": 3,
   "metadata": {},
   "outputs": [],
   "source": [
    "from selenium.webdriver.common.by import By"
   ]
  },
  {
   "cell_type": "code",
   "execution_count": 30,
   "metadata": {},
   "outputs": [],
   "source": [
    "driver.get(\"https://www.google.com/\")"
   ]
  },
  {
   "cell_type": "code",
   "execution_count": 6,
   "metadata": {},
   "outputs": [
    {
     "name": "stdout",
     "output_type": "stream",
     "text": [
      "https://in.linkedin.com/company/innovatelabs\n",
      "https://www.linkedin.com/company/hyperstaq\n",
      "https://in.linkedin.com/company/indeftts?original_referer=https%3A%2F%2Fwww.google.com%2F\n",
      "https://uk.linkedin.com/company/bloc-ventures\n",
      "https://in.linkedin.com/company/rinira-technologies-pvt-ltd\n",
      "https://www.linkedin.com/authwall?trk=gf&trkInfo=AQHPNRfua0DeggAAAY1bg-jgTWhTaMWDOKprytDJsuWZNdQ0J52TD62AO0nK8a2bW4FRANbSOpIR5SXbNS6hW01GcvIzCw5KNBZN-hrJmchKv-yb3OYGN-wtlqDkm3ZLOXRggog=&original_referer=https://www.google.com/&sessionRedirect=https%3A%2F%2Fin.linkedin.com%2Fin%2Fsunil-shirsat-87b8401bb%3Ftrk%3Dpeople-guest_people_search-card\n",
      "https://in.linkedin.com/company/vps-techub-pvt-ltd\n",
      "https://www.linkedin.com/company/keystone-business-solutions-llc\n",
      "https://www.linkedin.com/authwall?trk=gf&trkInfo=AQHouFB6TB3DrgAAAY1bhF4Qwiqc5BGkyte5bfYYb2jIjcdFmr6kemfJ6fBQDu067bhH3EZ_8jQC-BOA30Jfu8E5gfBmfil8IH7LgBd0qLlnl44GrXEPVnGpqR25iOXMFr-e3LI=&original_referer=https://www.google.com/&sessionRedirect=https%3A%2F%2Fin.linkedin.com%2Fin%2Fchirag-muniwala-060218159\n",
      "https://in.linkedin.com/company/cattleya-technosys-pvt.-ltd.\n",
      "https://in.linkedin.com/company/telperium\n",
      "https://in.linkedin.com/jobs/view/chief-operating-officer-at-the-yoga-institute-official-3797416717\n",
      "https://in.linkedin.com/company/openspaceservices?original_referer=https%3A%2F%2Fwww.google.com%2F\n",
      "https://www.linkedin.com/company/worldwidetechservices\n",
      "https://in.linkedin.com/company/web-stepup\n",
      "https://www.linkedin.com/authwall?trk=gf&trkInfo=AQE7I7MLQ4OUKAAAAY1bhV_gO_5k8QMeDbJedgTcCPP_dpJ1l5v5n3Ixm9yYOGIgCGuxCR7YAMb5I2NroMDjloaH23kXwqTNh8ekZup9f18jWkZ2WBYSw3TB1yWZowRXKNXzhh0=&original_referer=https://www.google.com/&sessionRedirect=https%3A%2F%2Fin.linkedin.com%2Fin%2Fshoaib-ahamed-165886191\n",
      "https://in.linkedin.com/company/silverbyte-software-consultants-india-private-limited\n",
      "https://uk.linkedin.com/company/sustain-limited\n",
      "https://in.linkedin.com/company/enveconglobal\n",
      "https://in.linkedin.com/company/e-filing-solutions\n",
      "https://www.linkedin.com/authwall?trk=gf&trkInfo=AQEBBC9GgocKmQAAAY1bhh9IlcqBNlAK1GVGsbvkopAj6B-j0a0_anSCEM1c0v-6o-WRaHJf_METF-R-5bx7yFva1PGH77j2F-_jynikqcO2cajIIVCLqYu1iWvwuWDh2uiFOhg=&original_referer=https://www.google.com/&sessionRedirect=https%3A%2F%2Fin.linkedin.com%2Fin%2Fxcibil-admin-5b9828238\n",
      "https://in.linkedin.com/company/syntel-global-private-limited\n",
      "https://in.linkedin.com/company/limenleaplabs\n",
      "https://www.linkedin.com/authwall?trk=gf&trkInfo=AQEX-WcSDT8yXwAAAY1biBNIQCU6bZ1gFC7HYSp1jPsytpu9azDg1f2WibDEQj_Dim_b6xGwhGJS2xIv87YnR9KdXXPIh3cMiKslYZFnX-kwnp9-w-xmOVLF0LEI44QqeZFb4v0=&original_referer=https://www.google.com/&sessionRedirect=https%3A%2F%2Fin.linkedin.com%2Fin%2Ftechratic-software-591ba1245\n",
      "https://www.linkedin.com/authwall?trk=gf&trkInfo=AQHFq7viUEchDwAAAY1biCLobTphQhidVrrvD7YlXLzcX4o3shBJg5-94eEY4ZCOn2zWRxmPZxycJPWs-tckKMnt6-Yrjc0ntV0dw73Ezq7e-piT3MxentVly7g4o_ABCrMRaPk=&original_referer=https://www.google.com/&sessionRedirect=https%3A%2F%2Fin.linkedin.com%2Fin%2Fbrijnandan-kumar-81a588268\n",
      "https://in.linkedin.com/company/smartassistco\n",
      "https://in.linkedin.com/company/sar-transport-systems-pvt-limited\n",
      "https://in.linkedin.com/company/free-a-billion\n",
      "https://www.linkedin.com/company/coaction\n",
      "https://in.linkedin.com/in/vedang-patel-40aba34b\n",
      "https://il.linkedin.com/company/allnet-systems-ltd\n",
      "https://www.linkedin.com/authwall?trk=gf&trkInfo=AQGGHUxPzyjjegAAAY1biK-IETjJpG9X8K-iu4hRSS1zzNUR0RJnOLGaQ0ZHObnREDfvmEI4ihxkOTWD_mOIiMGB3SLpCu_1iFPsHaekf028Vk6OLkBSi_eKuFR_7i1c7V0gDsU=&original_referer=https://www.google.com/&sessionRedirect=https%3A%2F%2Fin.linkedin.com%2Fin%2Fsushank-agarwal-663203152\n",
      "https://in.linkedin.com/company/beehyv-software-solutions-private-limited\n",
      "https://www.linkedin.com/company/exceliq-consulting-india-pvt-ltd\n",
      "https://www.linkedin.com/company/yashi-consulting\n",
      "https://in.linkedin.com/company/pixxmo\n",
      "https://in.linkedin.com/company/auburn-digital-solutions\n",
      "https://www.linkedin.com/company/novotoc-infotech-pvt-ltd\n",
      "https://at.linkedin.com/company/alphatauri\n",
      "https://www.linkedin.com/authwall?trk=gf&trkInfo=AQFqeHpzfu3-9QAAAY1bicD4EefYtKMyT07KjHNJQKH5Ss6L12oS41rQ5ciHBMpzdveWDM0DjA_dr9tsnXK9pGEMWQvgyNnOKWp60YwhH84r3tWBJQC9F_XEoMHPvyx8m_jX5Qg=&original_referer=https://www.google.com/&sessionRedirect=https%3A%2F%2Fin.linkedin.com%2Fin%2Fmanoj-gond-1722b61aa\n",
      "https://in.linkedin.com/company/terotexportimportprivatelimited\n",
      "https://in.linkedin.com/company/chanakya-international-pvt-ltd---india\n",
      "https://www.linkedin.com/company/hytix-ticketing?original_referer=https%3A%2F%2Fwww.google.com%2F\n",
      "https://in.linkedin.com/company/asitshiv-ventures-private-limited\n",
      "https://www.linkedin.com/authwall?trk=gf&trkInfo=AQHaDUTPwi8KJAAAAY1bisaw9Tk9vkyZBx4xGGwNN0IgtVkHLQhmCorYzc9UthTN5yYJcWT5TfaXZ5siNVbFWT3W_T9KEVtfZzmFp3PDw4cM_kkZ5q2hdX8gOhJUgPj_UlXYJBE=&original_referer=https://www.google.com/&sessionRedirect=https%3A%2F%2Fin.linkedin.com%2Fin%2Fsai-kiran-9289911a9\n",
      "https://www.linkedin.com/uas/login?session_redirect=https%3A%2F%2Fwww.linkedin.com%2Fcompany%2Flunoglobal%2Fabout%2F%3Fsrc%3Daff-ref%26trk%3Daff-ir_progid.8005_partid.10078_sid._adid.449670%26clickid%3DRSsQJYU6axyNTm0SiXUTAXRYUkA1pUzmUR0Ox80%26mcid%3D6851962469594763264%26irgwc%3D1\n",
      "https://www.linkedin.com/company/intertrust\n",
      "https://in.linkedin.com/company/epctech-india\n",
      "https://www.linkedin.com/authwall?trk=gf&trkInfo=AQGq3rr9NRpn-gAAAY1biyhY3cwUVWdp1dDZKkdi5rDnA1Jw3b-mJiKW1_gke8kipX8CAIOYJvWz1gVP52kNPmvrUpKFqZmqhIuqPxVe2S41a4P_U8-Q7GmOD8Nv4e0tPBFBvZo=&original_referer=https://www.google.com/&sessionRedirect=https%3A%2F%2Fin.linkedin.com%2Fin%2Fshweta-singh-70207125a\n",
      "https://www.linkedin.com/company/mushak-online\n",
      "https://www.linkedin.com/authwall?trk=gf&trkInfo=AQHkx2LmuKAnkwAAAY1bi0uATzl-XbFMI3jMTuKFJQhJZwUdr3g1RrL3jJqIQOnU_oDpUprFW9vgjaAMQZ-D0ilaRDl8YAywI0LTy-CQx9fqvN_BTYq_595nvyFr8v6lyc5lfUs=&original_referer=https://www.google.com/&sessionRedirect=https%3A%2F%2Fin.linkedin.com%2Fin%2Ftotal-mobility-tech-services-0357ba16b\n",
      "https://www.linkedin.com/posts/koushik747_home-alterstep-activity-7072864428861337600-2QSi?trk=public_profile_like_view\n",
      "https://www.linkedin.com/company/avocore-solutions\n",
      "https://in.linkedin.com/company/thestindia\n",
      "https://in.linkedin.com/company/trestlework-financial-technologies\n",
      "https://in.linkedin.com/company/codecraft-technologies-private-limited\n",
      "https://www.zaubacorp.com/company/MULTIFIX-SOFTECH-PRIVATE-LIMITED/U72900MH2020PTC349139\n",
      "https://in.linkedin.com/in/priyankyadav17\n",
      "https://in.linkedin.com/company/megha-compusoft-private-limited\n",
      "https://www.linkedin.com/company/blockchain-ventures\n",
      "https://in.linkedin.com/company/valto-infomatics-private-limited\n",
      "https://in.linkedin.com/company/dreamboxmedia\n",
      "https://in.linkedin.com/company/xtend-technologies-p-ltd-\n",
      "https://in.linkedin.com/company/fenix-process-technologies-pvt-ltd-\n",
      "https://in.linkedin.com/company/decipay-services?original_referer=https%3A%2F%2Fwww.google.com%2F\n",
      "https://in.linkedin.com/company/appville-softwares\n",
      "https://in.linkedin.com/company/tenanto\n",
      "https://in.linkedin.com/company/winmax-technologies-pvt-ltd-\n",
      "https://in.linkedin.com/company/bioscope-research\n",
      "https://in.linkedin.com/company/adventures-india-pvt-ltd\n",
      "https://www.linkedin.com/company/multi-skill-training-services-inc-\n",
      "https://in.linkedin.com/company/mangalampltd\n",
      "https://in.linkedin.com/company/board\n",
      "https://in.linkedin.com/company/osian?original_referer=https%3A%2F%2Fwww.google.com%2F\n",
      "https://in.linkedin.com/company/whiteworldwide\n",
      "https://www.linkedin.com/authwall?trk=gf&trkInfo=AQEkKNfTvFkqPAAAAY1bj8QI8s-GqOBEOAjJAdJlX8VKNoZKQQBFTBVSJ6SSWUZxhEuWPy_IbKxponqY_-ARJqsbaharIGuuNZxbaoC31qtrRQ4YaFgkgiHaQSmNEz1ql9p7TAo=&original_referer=https://www.google.com/&sessionRedirect=https%3A%2F%2Fin.linkedin.com%2Fin%2Fsunil-t-jain-79a44b52\n",
      "https://www.linkedin.com/authwall?trk=gf&trkInfo=AQGCauSEFicZmgAAAY1bj9eQSX-NPF2-JHvd99k6Q2UGdoj8QCUWEh5UxOElhWD-UtjVSRyq_mYCvf6EHdq077zP9RyDk4c6C0oc7zwMV-MGPT4nmUGtohyyS1DiaCUOQzfUN_s=&original_referer=https://www.google.com/&sessionRedirect=https%3A%2F%2Fin.linkedin.com%2Fin%2Fmargaret-chettiar-2919231aa\n",
      "https://au.linkedin.com/company/thundercloud-platfrom?original_referer=https%3A%2F%2Fwww.google.com%2F\n",
      "https://www.linkedin.com/authwall?trk=gf&trkInfo=AQEIgK7A9qe88wAAAY1bkAKIMMKWopnP8i1R8XStGBhOVKMKjbXgUdMCA6ArndZ5PQiGTgJgYHbC0qBvznutHntA0OiJ8qGygNGoyoda0qABoy0shJECru9ZGzCI51dlcV5ckhw=&original_referer=https://www.google.com/&sessionRedirect=https%3A%2F%2Fin.linkedin.com%2Fin%2Fwow-fantasy-private-limited-01879b230\n",
      "https://in.linkedin.com/company/anita-consultancy-services-private-limited\n",
      "https://in.linkedin.com/company/tlpglobus-solutions\n",
      "https://www.linkedin.com/company/smalltalk-tech?original_referer=https%3A%2F%2Fwww.google.com%2F\n",
      "https://uk.linkedin.com/company/cyber-security-hub\n",
      "https://in.linkedin.com/company/nileegames\n",
      "https://in.linkedin.com/company/netveer-technologies-private-limited\n",
      "https://in.linkedin.com/company/unotech-software-pvt-ltd\n",
      "https://www.linkedin.com/company/exceed-technologies\n",
      "https://www.linkedin.com/company/apelabs\n",
      "https://in.linkedin.com/company/myraclexr?original_referer=https%3A%2F%2Fwww.google.com%2F\n",
      "https://in.linkedin.com/company/powershell-technologies-pvt-ltd---india\n",
      "https://uk.linkedin.com/company/jigsaw-finance\n",
      "https://www.linkedin.com/authwall?trk=gf&trkInfo=AQHyqgqIX6po9gAAAY1bkYkobZ3HPYl1mlMJecTEF9ySM0Gaeql40qAnugs6rZ61OCra-JeA1Um8MaucdDNQHG7nZoxor_qQ1GyP88bgmodCKns16sNBVNf7C4L9F9Be2oZ-KM4=&original_referer=https://www.google.com/&sessionRedirect=https%3A%2F%2Fin.linkedin.com%2Fin%2Famit-kedia-3179b5148\n",
      "https://www.linkedin.com/company/softeq\n",
      "https://in.linkedin.com/company/kundan-industries-limited\n",
      "https://www.linkedin.com/company/brainysys-technologies-pvt-ltd\n",
      "https://www.linkedin.com/company/om-janah\n",
      "https://in.linkedin.com/company/maxwellenergy?original_referer=https%3A%2F%2Fwww.google.com%2F\n",
      "https://in.linkedin.com/company/dmacq\n",
      "https://in.linkedin.com/company/ecotech\n",
      "https://www.linkedin.com/company/strata-is?original_referer=https%3A%2F%2Fwww.google.com%2F\n",
      "https://www.linkedin.com/authwall?trk=gf&trkInfo=AQEd_Acz69ojxQAAAY1blGeIZp_Q55k_o5qrpWGv5zuS1iTaEgwpMRuEg3NAm68d4mqG6dyOlcBTPL3dNS3z7FU3kDgB31jDzJzw7a9FyF1SJVjtPFR1OZfxaK7Z1-_vuFJQUQA=&original_referer=https://www.google.com/&sessionRedirect=https%3A%2F%2Fin.linkedin.com%2Fin%2Fabhay-shah-559b4a99\n",
      "https://in.linkedin.com/company/prowessinfotech?original_referer=https%3A%2F%2Fwww.google.com%2F\n",
      "https://in.linkedin.com/company/kashyap-infomedia-pvt-ltd\n"
     ]
    },
    {
     "ename": "NoSuchElementException",
     "evalue": "Message: no such element: Unable to locate element: {\"method\":\"css selector\",\"selector\":\".GTRloc\"}\n  (Session info: chrome=121.0.6167.86); For documentation on this error, please visit: https://www.selenium.dev/documentation/webdriver/troubleshooting/errors#no-such-element-exception\nStacktrace:\n\tGetHandleVerifier [0x010B1673+52979]\n\t(No symbol) [0x01037961]\n\t(No symbol) [0x00F1DD3D]\n\t(No symbol) [0x00F55FBB]\n\t(No symbol) [0x00F560FB]\n\t(No symbol) [0x00F8CF92]\n\t(No symbol) [0x00F74534]\n\t(No symbol) [0x00F8B3FE]\n\t(No symbol) [0x00F74286]\n\t(No symbol) [0x00F4C063]\n\t(No symbol) [0x00F4CECD]\n\tGetHandleVerifier [0x013C8D83+3294723]\n\tGetHandleVerifier [0x01406CC2+3548482]\n\tGetHandleVerifier [0x01401C9C+3527964]\n\tGetHandleVerifier [0x0114870E+671630]\n\t(No symbol) [0x01041EB4]\n\t(No symbol) [0x0103D808]\n\t(No symbol) [0x0103D92D]\n\t(No symbol) [0x0102F7E0]\n\tBaseThreadInitThunk [0x76827BA9+25]\n\tRtlInitializeExceptionChain [0x7782BD2B+107]\n\tRtlClearBits [0x7782BCAF+191]\n",
     "output_type": "error",
     "traceback": [
      "\u001b[1;31m---------------------------------------------------------------------------\u001b[0m",
      "\u001b[1;31mNoSuchElementException\u001b[0m                    Traceback (most recent call last)",
      "Cell \u001b[1;32mIn[6], line 11\u001b[0m\n\u001b[0;32m      7\u001b[0m b\u001b[38;5;241m.\u001b[39msubmit()\n\u001b[0;32m      8\u001b[0m \u001b[38;5;66;03m# b1 = driver.find_element(By.XPATH,\"/html/body/div[2]/div/div[3]/div[2]/form/label/svg\")\u001b[39;00m\n\u001b[0;32m      9\u001b[0m \u001b[38;5;66;03m# b1.click()\u001b[39;00m\n\u001b[0;32m     10\u001b[0m \u001b[38;5;66;03m# time.sleep(2)\u001b[39;00m\n\u001b[1;32m---> 11\u001b[0m search1st \u001b[38;5;241m=\u001b[39m \u001b[43mdriver\u001b[49m\u001b[38;5;241;43m.\u001b[39;49m\u001b[43mfind_element\u001b[49m\u001b[43m(\u001b[49m\u001b[43mBy\u001b[49m\u001b[38;5;241;43m.\u001b[39;49m\u001b[43mCLASS_NAME\u001b[49m\u001b[43m,\u001b[49m\u001b[43m \u001b[49m\u001b[38;5;124;43m\"\u001b[39;49m\u001b[38;5;124;43mGTRloc\u001b[39;49m\u001b[38;5;124;43m\"\u001b[39;49m\u001b[43m)\u001b[49m\n\u001b[0;32m     12\u001b[0m search1st\u001b[38;5;241m.\u001b[39mclick()\n\u001b[0;32m     13\u001b[0m \u001b[38;5;66;03m# time.sleep(1)\u001b[39;00m\n",
      "File \u001b[1;32mc:\\Users\\tusha\\AppData\\Local\\Programs\\Python\\Python312\\Lib\\site-packages\\selenium\\webdriver\\remote\\webdriver.py:742\u001b[0m, in \u001b[0;36mWebDriver.find_element\u001b[1;34m(self, by, value)\u001b[0m\n\u001b[0;32m    739\u001b[0m     by \u001b[38;5;241m=\u001b[39m By\u001b[38;5;241m.\u001b[39mCSS_SELECTOR\n\u001b[0;32m    740\u001b[0m     value \u001b[38;5;241m=\u001b[39m \u001b[38;5;124mf\u001b[39m\u001b[38;5;124m'\u001b[39m\u001b[38;5;124m[name=\u001b[39m\u001b[38;5;124m\"\u001b[39m\u001b[38;5;132;01m{\u001b[39;00mvalue\u001b[38;5;132;01m}\u001b[39;00m\u001b[38;5;124m\"\u001b[39m\u001b[38;5;124m]\u001b[39m\u001b[38;5;124m'\u001b[39m\n\u001b[1;32m--> 742\u001b[0m \u001b[38;5;28;01mreturn\u001b[39;00m \u001b[38;5;28;43mself\u001b[39;49m\u001b[38;5;241;43m.\u001b[39;49m\u001b[43mexecute\u001b[49m\u001b[43m(\u001b[49m\u001b[43mCommand\u001b[49m\u001b[38;5;241;43m.\u001b[39;49m\u001b[43mFIND_ELEMENT\u001b[49m\u001b[43m,\u001b[49m\u001b[43m \u001b[49m\u001b[43m{\u001b[49m\u001b[38;5;124;43m\"\u001b[39;49m\u001b[38;5;124;43musing\u001b[39;49m\u001b[38;5;124;43m\"\u001b[39;49m\u001b[43m:\u001b[49m\u001b[43m \u001b[49m\u001b[43mby\u001b[49m\u001b[43m,\u001b[49m\u001b[43m \u001b[49m\u001b[38;5;124;43m\"\u001b[39;49m\u001b[38;5;124;43mvalue\u001b[39;49m\u001b[38;5;124;43m\"\u001b[39;49m\u001b[43m:\u001b[49m\u001b[43m \u001b[49m\u001b[43mvalue\u001b[49m\u001b[43m}\u001b[49m\u001b[43m)\u001b[49m[\u001b[38;5;124m\"\u001b[39m\u001b[38;5;124mvalue\u001b[39m\u001b[38;5;124m\"\u001b[39m]\n",
      "File \u001b[1;32mc:\\Users\\tusha\\AppData\\Local\\Programs\\Python\\Python312\\Lib\\site-packages\\selenium\\webdriver\\remote\\webdriver.py:348\u001b[0m, in \u001b[0;36mWebDriver.execute\u001b[1;34m(self, driver_command, params)\u001b[0m\n\u001b[0;32m    346\u001b[0m response \u001b[38;5;241m=\u001b[39m \u001b[38;5;28mself\u001b[39m\u001b[38;5;241m.\u001b[39mcommand_executor\u001b[38;5;241m.\u001b[39mexecute(driver_command, params)\n\u001b[0;32m    347\u001b[0m \u001b[38;5;28;01mif\u001b[39;00m response:\n\u001b[1;32m--> 348\u001b[0m     \u001b[38;5;28;43mself\u001b[39;49m\u001b[38;5;241;43m.\u001b[39;49m\u001b[43merror_handler\u001b[49m\u001b[38;5;241;43m.\u001b[39;49m\u001b[43mcheck_response\u001b[49m\u001b[43m(\u001b[49m\u001b[43mresponse\u001b[49m\u001b[43m)\u001b[49m\n\u001b[0;32m    349\u001b[0m     response[\u001b[38;5;124m\"\u001b[39m\u001b[38;5;124mvalue\u001b[39m\u001b[38;5;124m\"\u001b[39m] \u001b[38;5;241m=\u001b[39m \u001b[38;5;28mself\u001b[39m\u001b[38;5;241m.\u001b[39m_unwrap_value(response\u001b[38;5;241m.\u001b[39mget(\u001b[38;5;124m\"\u001b[39m\u001b[38;5;124mvalue\u001b[39m\u001b[38;5;124m\"\u001b[39m, \u001b[38;5;28;01mNone\u001b[39;00m))\n\u001b[0;32m    350\u001b[0m     \u001b[38;5;28;01mreturn\u001b[39;00m response\n",
      "File \u001b[1;32mc:\\Users\\tusha\\AppData\\Local\\Programs\\Python\\Python312\\Lib\\site-packages\\selenium\\webdriver\\remote\\errorhandler.py:229\u001b[0m, in \u001b[0;36mErrorHandler.check_response\u001b[1;34m(self, response)\u001b[0m\n\u001b[0;32m    227\u001b[0m         alert_text \u001b[38;5;241m=\u001b[39m value[\u001b[38;5;124m\"\u001b[39m\u001b[38;5;124malert\u001b[39m\u001b[38;5;124m\"\u001b[39m]\u001b[38;5;241m.\u001b[39mget(\u001b[38;5;124m\"\u001b[39m\u001b[38;5;124mtext\u001b[39m\u001b[38;5;124m\"\u001b[39m)\n\u001b[0;32m    228\u001b[0m     \u001b[38;5;28;01mraise\u001b[39;00m exception_class(message, screen, stacktrace, alert_text)  \u001b[38;5;66;03m# type: ignore[call-arg]  # mypy is not smart enough here\u001b[39;00m\n\u001b[1;32m--> 229\u001b[0m \u001b[38;5;28;01mraise\u001b[39;00m exception_class(message, screen, stacktrace)\n",
      "\u001b[1;31mNoSuchElementException\u001b[0m: Message: no such element: Unable to locate element: {\"method\":\"css selector\",\"selector\":\".GTRloc\"}\n  (Session info: chrome=121.0.6167.86); For documentation on this error, please visit: https://www.selenium.dev/documentation/webdriver/troubleshooting/errors#no-such-element-exception\nStacktrace:\n\tGetHandleVerifier [0x010B1673+52979]\n\t(No symbol) [0x01037961]\n\t(No symbol) [0x00F1DD3D]\n\t(No symbol) [0x00F55FBB]\n\t(No symbol) [0x00F560FB]\n\t(No symbol) [0x00F8CF92]\n\t(No symbol) [0x00F74534]\n\t(No symbol) [0x00F8B3FE]\n\t(No symbol) [0x00F74286]\n\t(No symbol) [0x00F4C063]\n\t(No symbol) [0x00F4CECD]\n\tGetHandleVerifier [0x013C8D83+3294723]\n\tGetHandleVerifier [0x01406CC2+3548482]\n\tGetHandleVerifier [0x01401C9C+3527964]\n\tGetHandleVerifier [0x0114870E+671630]\n\t(No symbol) [0x01041EB4]\n\t(No symbol) [0x0103D808]\n\t(No symbol) [0x0103D92D]\n\t(No symbol) [0x0102F7E0]\n\tBaseThreadInitThunk [0x76827BA9+25]\n\tRtlInitializeExceptionChain [0x7782BD2B+107]\n\tRtlClearBits [0x7782BCAF+191]\n"
     ]
    }
   ],
   "source": [
    "\n",
    "\n",
    "for index, row in df.iterrows():\n",
    "    # driver.get(\"https://www.google.com/\")\n",
    "    i = row['name']\n",
    "    # time.sleep()\n",
    "    b = driver.find_element(By.XPATH, \"/html/body/div[1]/div[3]/form/div[1]/div[1]/div[1]/div/div[2]/textarea\")\n",
    "    b.send_keys(str(i)+\"Linkdin\")\n",
    "    b.submit()\n",
    "    # b1 = driver.find_element(By.XPATH,\"/html/body/div[2]/div/div[3]/div[2]/form/label/svg\")\n",
    "    # b1.click()\n",
    "    # time.sleep(2)\n",
    "    search1st = driver.find_element(By.CLASS_NAME, \"GTRloc\")\n",
    "    search1st.click()\n",
    "    # time.sleep(1)\n",
    "    get_url = driver.current_url\n",
    "    print(str(get_url))\n",
    "    # with open('mumbai_linkedin.csv', 'a', newline='') as file:\n",
    "    #     writer = csv.writer(file)\n",
    "    #     writer.writerow(str(get_url))\n",
    "    \n",
    "    # time.sleep(2)\n",
    "    # info = driver.find_element(By.XPATH,\"/html/body/main/section[1]/div/section[1]/div/dl\").text\n",
    "    # locations = driver.find_element(By.XPATH,\"/html/body/main/section[1]/div/section[2]/div/ul\").text\n",
    "    driver.back()\n",
    "    # driver.back()\n",
    "    driver.back()\n",
    "    \n",
    "    \n",
    "    \n",
    "    \n",
    "\n",
    "\n",
    "# product_names = driver.find_element(By.CLASS_NAME, \"Pke_EE\")\n",
    "# product_names.send_keys(\"Laptops\")\n"
   ]
  },
  {
   "cell_type": "code",
   "execution_count": 13,
   "metadata": {},
   "outputs": [
    {
     "name": "stdout",
     "output_type": "stream",
     "text": [
      "Note: you may need to restart the kernel to use updated packages.\n"
     ]
    },
    {
     "name": "stderr",
     "output_type": "stream",
     "text": [
      "ERROR: Could not find a version that satisfies the requirement undetected_firefoxdriver (from versions: none)\n",
      "ERROR: No matching distribution found for undetected_firefoxdriver\n"
     ]
    }
   ],
   "source": [
    "pip install undetected_firefoxdriver"
   ]
  },
  {
   "cell_type": "code",
   "execution_count": null,
   "metadata": {},
   "outputs": [],
   "source": []
  }
 ],
 "metadata": {
  "kernelspec": {
   "display_name": "Python 3 (ipykernel)",
   "language": "python",
   "name": "python3"
  },
  "language_info": {
   "codemirror_mode": {
    "name": "ipython",
    "version": 3
   },
   "file_extension": ".py",
   "mimetype": "text/x-python",
   "name": "python",
   "nbconvert_exporter": "python",
   "pygments_lexer": "ipython3",
   "version": "3.12.0"
  }
 },
 "nbformat": 4,
 "nbformat_minor": 4
}
